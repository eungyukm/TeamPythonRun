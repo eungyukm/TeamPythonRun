{
 "cells": [
  {
   "cell_type": "code",
   "id": "initial_id",
   "metadata": {
    "collapsed": true,
    "ExecuteTime": {
     "end_time": "2025-01-08T13:17:24.787769Z",
     "start_time": "2025-01-08T13:17:24.784986Z"
    }
   },
   "source": [
    "import nltk\n",
    "import numpy as np\n",
    "import matplotlib.pyplot as plt\n",
    "from tensorflow.keras.preprocessing.text import Tokenizer\n",
    "from tensorflow.keras.preprocessing.sequence import pad_sequences\n",
    "from tensorflow.keras.utils import to_categorical\n",
    "from sklearn.model_selection import train_test_split"
   ],
   "outputs": [],
   "execution_count": 5
  },
  {
   "metadata": {
    "ExecuteTime": {
     "end_time": "2025-01-08T13:18:39.103679Z",
     "start_time": "2025-01-08T13:18:38.805191Z"
    }
   },
   "cell_type": "code",
   "source": [
    "# 토큰화에 품사 태깅이 된 데이터 받아오기\n",
    "tagged_sentences = nltk.corpus.treebank.tagged_sents()\n",
    "print(\"품사 태깅이 된 문장 개수: \", len(tagged_sentences))"
   ],
   "id": "47efc531d52be037",
   "outputs": [
    {
     "name": "stdout",
     "output_type": "stream",
     "text": [
      "품사 태깅이 된 문장 개수:  3914\n"
     ]
    }
   ],
   "execution_count": 6
  },
  {
   "metadata": {
    "ExecuteTime": {
     "end_time": "2025-01-08T13:18:53.677052Z",
     "start_time": "2025-01-08T13:18:53.672656Z"
    }
   },
   "cell_type": "code",
   "source": "print(tagged_sentences[0])",
   "id": "c619324ccc74218f",
   "outputs": [
    {
     "name": "stdout",
     "output_type": "stream",
     "text": [
      "[('Pierre', 'NNP'), ('Vinken', 'NNP'), (',', ','), ('61', 'CD'), ('years', 'NNS'), ('old', 'JJ'), (',', ','), ('will', 'MD'), ('join', 'VB'), ('the', 'DT'), ('board', 'NN'), ('as', 'IN'), ('a', 'DT'), ('nonexecutive', 'JJ'), ('director', 'NN'), ('Nov.', 'NNP'), ('29', 'CD'), ('.', '.')]\n"
     ]
    }
   ],
   "execution_count": 7
  },
  {
   "metadata": {
    "ExecuteTime": {
     "end_time": "2025-01-08T13:21:36.089977Z",
     "start_time": "2025-01-08T13:21:35.792520Z"
    }
   },
   "cell_type": "code",
   "source": [
    "sentences, pos_tags = [], []\n",
    "for tagged_sentence in tagged_sentences: # 3,914개의 문장 샘플을 1개씩 불러온다.\n",
    "    sentence, tag_info = zip(*tagged_sentence) # 각 샘플에서 단어들은 sentence에 품사 태깅 정보들은 tag_info에 저장한다.\n",
    "    sentences.append(list(sentence)) # 각 샘플에서 단어 정보만 저장한다.\n",
    "    pos_tags.append(list(tag_info)) # 각 샘플에서 품사 태깅 정보만 저장한다."
   ],
   "id": "3f78a4bbcdb548d5",
   "outputs": [],
   "execution_count": 9
  },
  {
   "metadata": {
    "ExecuteTime": {
     "end_time": "2025-01-09T01:50:51.104727Z",
     "start_time": "2025-01-09T01:50:51.095145Z"
    }
   },
   "cell_type": "code",
   "source": [
    "print(sentences[0])\n",
    "print(pos_tags[0])"
   ],
   "id": "b4effd43888ea233",
   "outputs": [
    {
     "name": "stdout",
     "output_type": "stream",
     "text": [
      "['Pierre', 'Vinken', ',', '61', 'years', 'old', ',', 'will', 'join', 'the', 'board', 'as', 'a', 'nonexecutive', 'director', 'Nov.', '29', '.']\n",
      "['NNP', 'NNP', ',', 'CD', 'NNS', 'JJ', ',', 'MD', 'VB', 'DT', 'NN', 'IN', 'DT', 'JJ', 'NN', 'NNP', 'CD', '.']\n"
     ]
    }
   ],
   "execution_count": 10
  },
  {
   "metadata": {
    "ExecuteTime": {
     "end_time": "2025-01-09T01:51:01.663003Z",
     "start_time": "2025-01-09T01:51:01.458650Z"
    }
   },
   "cell_type": "code",
   "source": [
    "print('샘플의 최대 길이 : %d' % max(len(l) for l in sentences))\n",
    "print('샘플의 평균 길이 : %f' % (sum(map(len, sentences))/len(sentences)))\n",
    "plt.hist([len(s) for s in sentences], bins=50)\n",
    "plt.xlabel('length of samples')\n",
    "plt.ylabel('number of samples')\n",
    "plt.show()"
   ],
   "id": "ea64d8c41ff6536d",
   "outputs": [
    {
     "name": "stdout",
     "output_type": "stream",
     "text": [
      "샘플의 최대 길이 : 271\n",
      "샘플의 평균 길이 : 25.722024\n"
     ]
    },
    {
     "data": {
      "text/plain": [
       "<Figure size 640x480 with 1 Axes>"
      ],
      "image/png": "[encoded data removed]"
     },
     "metadata": {},
     "output_type": "display_data"
    }
   ],
   "execution_count": 11
  },
  {
   "metadata": {
    "ExecuteTime": {
     "end_time": "2025-01-09T01:51:20.970189Z",
     "start_time": "2025-01-09T01:51:20.966179Z"
    }
   },
   "cell_type": "code",
   "source": [
    "def tokenize(samples):\n",
    "  tokenizer = Tokenizer()\n",
    "  tokenizer.fit_on_texts(samples)\n",
    "  return tokenizer"
   ],
   "id": "f76b1460659da73a",
   "outputs": [],
   "execution_count": 12
  },
  {
   "metadata": {
    "ExecuteTime": {
     "end_time": "2025-01-09T01:51:29.361884Z",
     "start_time": "2025-01-09T01:51:29.292262Z"
    }
   },
   "cell_type": "code",
   "source": [
    "src_tokenizer = tokenize(sentences)\n",
    "tar_tokenizer = tokenize(pos_tags)"
   ],
   "id": "8c02ea60533f336c",
   "outputs": [],
   "execution_count": 13
  },
  {
   "metadata": {
    "ExecuteTime": {
     "end_time": "2025-01-09T01:51:36.225366Z",
     "start_time": "2025-01-09T01:51:36.220288Z"
    }
   },
   "cell_type": "code",
   "source": [
    "vocab_size = len(src_tokenizer.word_index) + 1\n",
    "tag_size = len(tar_tokenizer.word_index) + 1\n",
    "print('단어 집합의 크기 : {}'.format(vocab_size))\n",
    "print('태깅 정보 집합의 크기 : {}'.format(tag_size))"
   ],
   "id": "e12288a5588002bd",
   "outputs": [
    {
     "name": "stdout",
     "output_type": "stream",
     "text": [
      "단어 집합의 크기 : 11388\n",
      "태깅 정보 집합의 크기 : 47\n"
     ]
    }
   ],
   "execution_count": 14
  },
  {
   "metadata": {
    "ExecuteTime": {
     "end_time": "2025-01-09T01:51:43.465874Z",
     "start_time": "2025-01-09T01:51:43.422343Z"
    }
   },
   "cell_type": "code",
   "source": [
    "X_train = src_tokenizer.texts_to_sequences(sentences)\n",
    "y_train = tar_tokenizer.texts_to_sequences(pos_tags)"
   ],
   "id": "79479211643bfc0a",
   "outputs": [],
   "execution_count": 15
  },
  {
   "metadata": {
    "ExecuteTime": {
     "end_time": "2025-01-09T01:51:50.553318Z",
     "start_time": "2025-01-09T01:51:50.550217Z"
    }
   },
   "cell_type": "code",
   "source": [
    "print(X_train[:2])\n",
    "print(y_train[:2])"
   ],
   "id": "59265fd023486799",
   "outputs": [
    {
     "name": "stdout",
     "output_type": "stream",
     "text": [
      "[[5601, 3746, 1, 2024, 86, 331, 1, 46, 2405, 2, 131, 27, 6, 2025, 332, 459, 2026, 3], [31, 3746, 20, 177, 4, 5602, 2915, 1, 2, 2916, 637, 147, 3]]\n",
      "[[3, 3, 8, 10, 6, 7, 8, 21, 13, 4, 1, 2, 4, 7, 1, 3, 10, 9], [3, 3, 17, 1, 2, 3, 3, 8, 4, 3, 19, 1, 9]]\n"
     ]
    }
   ],
   "execution_count": 16
  },
  {
   "metadata": {
    "ExecuteTime": {
     "end_time": "2025-01-09T01:51:56.975168Z",
     "start_time": "2025-01-09T01:51:56.959830Z"
    }
   },
   "cell_type": "code",
   "source": [
    "max_len = 150\n",
    "X_train = pad_sequences(X_train, padding='post', maxlen=max_len)\n",
    "y_train = pad_sequences(y_train, padding='post', maxlen=max_len)"
   ],
   "id": "bfba520a86ce822a",
   "outputs": [],
   "execution_count": 17
  },
  {
   "metadata": {
    "ExecuteTime": {
     "end_time": "2025-01-09T01:52:05.010031Z",
     "start_time": "2025-01-09T01:52:04.999854Z"
    }
   },
   "cell_type": "code",
   "source": "X_train, X_test, y_train, y_test = train_test_split(X_train, y_train, test_size=.2, random_state=777)",
   "id": "3b87a77cc17bcf5d",
   "outputs": [],
   "execution_count": 18
  },
  {
   "metadata": {
    "ExecuteTime": {
     "end_time": "2025-01-09T01:52:11.166521Z",
     "start_time": "2025-01-09T01:52:11.163167Z"
    }
   },
   "cell_type": "code",
   "source": [
    "print('훈련 샘플 문장의 크기 : {}'.format(X_train.shape))\n",
    "print('훈련 샘플 레이블의 크기 : {}'.format(y_train.shape))\n",
    "print('테스트 샘플 문장의 크기 : {}'.format(X_test.shape))\n",
    "print('테스트 샘플 레이블의 크기 : {}'.format(y_test.shape))"
   ],
   "id": "eb2dfc7bfc002696",
   "outputs": [
    {
     "name": "stdout",
     "output_type": "stream",
     "text": [
      "훈련 샘플 문장의 크기 : (3131, 150)\n",
      "훈련 샘플 레이블의 크기 : (3131, 150)\n",
      "테스트 샘플 문장의 크기 : (783, 150)\n",
      "테스트 샘플 레이블의 크기 : (783, 150)\n"
     ]
    }
   ],
   "execution_count": 19
  },
  {
   "metadata": {
    "ExecuteTime": {
     "end_time": "2025-01-09T01:52:19.619811Z",
     "start_time": "2025-01-09T01:52:19.617255Z"
    }
   },
   "cell_type": "code",
   "source": "",
   "id": "130b4b594e56e5cb",
   "outputs": [],
   "execution_count": null
  },
  {
   "metadata": {},
   "cell_type": "code",
   "outputs": [],
   "execution_count": null,
   "source": "",
   "id": "8d23a980cee8eccf"
  }
 ],
 "metadata": {
  "kernelspec": {
   "display_name": "Python 3",
   "language": "python",
   "name": "python3"
  },
  "language_info": {
   "codemirror_mode": {
    "name": "ipython",
    "version": 2
   },
   "file_extension": ".py",
   "mimetype": "text/x-python",
   "name": "python",
   "nbconvert_exporter": "python",
   "pygments_lexer": "ipython2",
   "version": "2.7.6"
  }
 },
 "nbformat": 4,
 "nbformat_minor": 5
}
