{
 "cells": [
  {
   "metadata": {},
   "cell_type": "markdown",
   "source": "",
   "id": "8a77807f92f26ee"
  },
  {
   "metadata": {
    "ExecuteTime": {
     "end_time": "2024-12-03T08:05:01.235835Z",
     "start_time": "2024-12-03T08:05:00.613003Z"
    }
   },
   "cell_type": "code",
   "source": [
    "import numpy as np\n",
    "import pandas as pd\n",
    "\n",
    "# 관서별 5대범죄 발생 및 검거 엑셀 파일 경로\n",
    "crime_occurrence_file_path = 'data/crime_occurrence.xlsx'\n",
    "# 구별 데이터 csv 파일 경로\n",
    "district_data_file_path = 'data/district_data.csv'\n",
    "\n",
    "# 엑셀 파일을 데이터프레임으로 변환\n",
    "crime_occurrence_df = pd.read_excel(crime_occurrence_file_path, engine='openpyxl')\n",
    "# print(crime_occurrence_df)\n",
    "\n",
    "# 경찰서와 구 이름 매핑 딕셔너리\n",
    "mapping = {\n",
    "    '서대문서': '서대문구', '수서서': '강남구', '강서서': '강서구', '서초서': '서초구',\n",
    "    '서부서': '은평구', '중부서': '중구', '종로서': '종로구', '남대문서': '중구',\n",
    "    '혜화서': '종로구', '용산서': '용산구', '성북서': '성북구', '동대문서': '동대문구',\n",
    "    '마포서': '마포구', '영등포서': '영등포구', '성동서': '성동구', '동작서': '동작구',\n",
    "    '광진서': '광진구', '강북서': '강북구', '금천서': '금천구', '중랑서': '중랑구',\n",
    "    '강남서': '강남구', '관악서': '관악구', '강동서': '강동구', '종암서': '성북구',\n",
    "    '구로서': '구로구', '양천서': '양천구', '송파서': '송파구', '노원서': '노원구',\n",
    "    '방배서': '서초구', '은평서': '은평구', '도봉서': '도봉구'\n",
    "}\n",
    "\n",
    "# '구별' 컬럼 생성\n",
    "crime_occurrence_df['구별'] = crime_occurrence_df['관서명'].map(mapping).fillna('구 없음')\n",
    "# print(crime_occurrence_df)\n",
    "\n",
    "# 죄종\n",
    "\n",
    "columns_to_pivot = [\n",
    "    '강간(검거)', '강간(발생)', '강도(검거)', '강도(발생)', '살인(검거)', '살인(발생)',\n",
    "    '소계(검거)', '소계(발생)', '절도(검거)', '절도(발생)', '폭력(검거)', '폭력(발생)'\n",
    "]\n",
    "\n",
    "crime_occurrence_pivot = crime_occurrence_df.pivot_table(index='구별', values=columns_to_pivot, aggfunc='sum')\n",
    "crime_occurrence_pivot.drop('구 없음', inplace=True)\n",
    "\n",
    "# 각 항목별 검거율 추가\n",
    "crime_occurrence_pivot['강간검거율'] = crime_occurrence_pivot['강간(검거)'] / crime_occurrence_pivot['강간(발생)'] * 100\n",
    "crime_occurrence_pivot['강도검거율'] = crime_occurrence_pivot['강도(검거)'] / crime_occurrence_pivot['강도(발생)'] * 100\n",
    "crime_occurrence_pivot['살인검거율'] = crime_occurrence_pivot['살인(검거)'] / crime_occurrence_pivot['살인(발생)'] * 100\n",
    "crime_occurrence_pivot['절도검거율'] = crime_occurrence_pivot['절도(검거)'] / crime_occurrence_pivot['절도(발생)'] * 100\n",
    "crime_occurrence_pivot['폭력검거율'] = crime_occurrence_pivot['폭력(검거)'] / crime_occurrence_pivot['폭력(발생)'] * 100\n",
    "\n",
    "del_colum_list = ['강간(검거)', '강간(발생)', '강도(검거)', '강도(발생)', '살인(검거)', '살인(발생)', '절도(검거)', '절도(발생)', '폭력(검거)', '폭력(발생)']\n",
    "for del_column in del_colum_list:\n",
    "    del crime_occurrence_pivot[del_column]\n",
    "\n",
    "rename_dic = {\n",
    "    '소계(검거)': '검거율', '소계(발생)': '발생율', '강간검거율': '강간', '강도검거율': '강도', '살인검거율': '살인', '절도검거율': '절도', '폭력검거율': '폭력'\n",
    "}\n",
    "crime_occurrence_pivot.rename(columns=rename_dic, inplace=True)\n",
    "\n",
    "print(crime_occurrence_pivot)"
   ],
   "id": "fbc121e30a2defb3",
   "outputs": [
    {
     "name": "stdout",
     "output_type": "stream",
     "text": [
      "       검거율   발생율          강간          강도          살인         절도         폭력\n",
      "구별                                                                        \n",
      "강남구   5732  8617   77.728285   85.714286   76.923077  42.857143  86.484594\n",
      "강동구   3171  5244   78.846154  133.333333   75.000000  33.347422  82.890855\n",
      "강북구   3113  4257   82.352941   92.857143  114.285714  43.096234  88.637222\n",
      "강서구   4190  5585   72.900763  100.000000  114.285714  60.114504  84.752105\n",
      "관악구   3712  6345   69.062500  116.666667   88.888889  30.561715  80.109157\n",
      "광진구   3707  5909   91.666667  185.714286  100.000000  42.200925  83.047619\n",
      "구로구   3502  5646   58.362989   73.333333   75.000000  38.072805  80.877951\n",
      "금천구   2796  3781   80.794702  100.000000  133.333333  56.668794  86.465433\n",
      "노원구   3268  5130   61.421320  100.000000  100.000000  36.525308  85.530665\n",
      "도봉구   1900  2664  103.921569  111.111111  100.000000  44.967074  87.626093\n",
      "동대문구  3205  4720   84.393064  100.000000  100.000000  41.090358  87.401884\n",
      "동작구   2397  4074   48.771930   55.555556  100.000000  35.442359  83.089005\n",
      "마포구   3597  5854   84.013605   71.428571  100.000000  31.819961  84.445189\n",
      "서대문구  2579  4029   80.519481   80.000000  100.000000  40.728477  83.219844\n",
      "서초구   3450  5444   63.358779   66.666667   75.000000  41.404175  87.453105\n",
      "성동구   2123  3358   94.444444   88.888889  100.000000  37.149969  86.538462\n",
      "성북구   2729  4154   82.666667   80.000000  100.000000  41.512605  83.974649\n",
      "송파구   4113  6778   80.909091   76.923077   90.909091  34.856437  84.552352\n",
      "양천구   2815  4528   87.500000   50.000000  166.666667  35.555556  80.908729\n",
      "영등포구  4154  6867   62.033898   90.909091   85.714286  32.995951  82.894737\n",
      "용산구   2483  3820   89.175258  100.000000  100.000000  37.700706  83.121951\n",
      "은평구   3167  4745   84.939759   66.666667  100.000000  37.147335  86.920467\n",
      "종로구   2943  4705   76.303318   81.818182   83.333333  38.324176  84.212822\n",
      "중구    2942  4954   65.294118   66.666667   66.666667  33.712716  88.309353\n",
      "중랑구   3405  5193   79.144385   81.818182   92.307692  38.829040  84.545135\n"
     ]
    }
   ],
   "execution_count": 1
  },
  {
   "metadata": {
    "ExecuteTime": {
     "end_time": "2024-12-03T08:05:58.670436Z",
     "start_time": "2024-12-03T08:05:58.668062Z"
    }
   },
   "cell_type": "code",
   "source": "",
   "id": "9db24d45429d41c5",
   "outputs": [],
   "execution_count": null
  },
  {
   "metadata": {},
   "cell_type": "code",
   "outputs": [],
   "execution_count": null,
   "source": "",
   "id": "18fca1efe02ff2d3"
  }
 ],
 "metadata": {
  "kernelspec": {
   "display_name": "Python 3",
   "language": "python",
   "name": "python3"
  },
  "language_info": {
   "codemirror_mode": {
    "name": "ipython",
    "version": 2
   },
   "file_extension": ".py",
   "mimetype": "text/x-python",
   "name": "python",
   "nbconvert_exporter": "python",
   "pygments_lexer": "ipython2",
   "version": "2.7.6"
  }
 },
 "nbformat": 4,
 "nbformat_minor": 5
}
